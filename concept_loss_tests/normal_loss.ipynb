{
 "cells": [
  {
   "cell_type": "code",
   "execution_count": 81,
   "metadata": {},
   "outputs": [],
   "source": [
    "import numpy as np\n",
    "import torch"
   ]
  },
  {
   "cell_type": "code",
   "execution_count": 2,
   "metadata": {},
   "outputs": [],
   "source": [
    "batch_size = 10**4\n",
    "num_concepts = 10\n",
    "num_latent_concepts = 5"
   ]
  },
  {
   "cell_type": "code",
   "execution_count": 3,
   "metadata": {},
   "outputs": [],
   "source": [
    "# sampling from independent normals using parameterization trick\n",
    "def sample(num_concepts, num_latent_concepts, batch_size):\n",
    "    mu_hat = np.random.random(num_concepts).reshape(num_concepts, 1) # (n_concepts,  1)\n",
    "    true_sigma_hat = np.random.random(num_concepts).reshape(num_concepts, 1) # (n_concepts,  1)\n",
    "    c_hat = np.random.standard_normal(batch_size*num_concepts).reshape(batch_size, num_concepts, 1) * true_sigma_hat**0.5 + mu_hat # (batch_size, n_concepts,  1)\n",
    "\n",
    "    mu_tilde = np.random.random(num_latent_concepts).reshape(num_latent_concepts, 1) # (n_latent,  1)\n",
    "    true_sigma_tilde = np.random.random(num_latent_concepts).reshape(num_latent_concepts, 1) # (n_latent,  1)\n",
    "    c_tilde = np.random.standard_normal(batch_size*num_latent_concepts).reshape(batch_size, num_latent_concepts, 1) * true_sigma_tilde**0.5 + mu_tilde # (batch_size, n_latent,  1)\n",
    "    # print(list(true_sigma_hat.squeeze())+list(true_sigma_tilde.squeeze()))\n",
    "    return c_hat, c_tilde\n",
    "\n",
    "# c_hat_mean = np.mean(c_hat, axis=0) # (n_concepts, 1)\n",
    "# c_tilde_mean = np.mean(c_tilde, axis=0) # (n_latent, 1)\n",
    "# print(c_hat.shape, c_tilde.shape)"
   ]
  },
  {
   "cell_type": "code",
   "execution_count": 171,
   "metadata": {},
   "outputs": [],
   "source": [
    "batch_size = 12\n",
    "num_concepts = 10\n",
    "num_latent_concepts = 5"
   ]
  },
  {
   "cell_type": "code",
   "execution_count": 112,
   "metadata": {},
   "outputs": [
    {
     "name": "stdout",
     "output_type": "stream",
     "text": [
      "[[ 5.50801948  0.34928405 -1.23892489 -0.11905367  2.14910639  0.40555758\n",
      "   0.31533124  1.64649657 -0.43002407  0.70916933 -0.63043551]\n",
      " [ 0.34928405  3.88679952 -0.72615895 -0.13777566 -0.86369586 -0.01565253\n",
      "  -0.21964978  1.45482667  0.45473369  0.28833711 -1.66158596]\n",
      " [-1.23892489 -0.72615895  1.09417509  0.00714445 -0.76532203  0.0194465\n",
      "  -0.09876495 -0.76703291  0.74452219 -0.2413108   0.23643475]\n",
      " [-0.11905367 -0.13777566  0.00714445  2.89089595  1.14839562 -0.10447844\n",
      "  -0.32334484  0.3292649   0.57830816  1.53864522  0.33501168]\n",
      " [ 2.14910639 -0.86369586 -0.76532203  1.14839562  5.80118135 -0.18919827\n",
      "  -0.17522312  2.24642314 -0.83515468  2.47589484  2.699616  ]\n",
      " [ 0.40555758 -0.01565253  0.0194465  -0.10447844 -0.18919827  0.1296983\n",
      "   0.03599095  0.06759967 -0.02476861  0.30425554 -0.25990725]\n",
      " [ 0.31533124 -0.21964978 -0.09876495 -0.32334484 -0.17522312  0.03599095\n",
      "   0.15628472 -0.11467802 -0.07175104 -0.35736829 -0.12685467]\n",
      " [ 1.64649657  1.45482667 -0.76703291  0.3292649   2.24642314  0.06759967\n",
      "  -0.11467802  1.97763408 -0.33641938  1.84785846  0.21662176]\n",
      " [-0.43002407  0.45473369  0.74452219  0.57830816 -0.83515468 -0.02476861\n",
      "  -0.07175104 -0.33641938  1.89294019 -0.22619311 -0.43694914]\n",
      " [ 0.70916933  0.28833711 -0.2413108   1.53864522  2.47589484  0.30425554\n",
      "  -0.35736829  1.84785846 -0.22619311  5.20220465  0.02580843]\n",
      " [-0.63043551 -1.66158596  0.23643475  0.33501168  2.699616   -0.25990725\n",
      "  -0.12685467  0.21662176 -0.43694914  0.02580843  2.70883022]]\n",
      "\n",
      "[[ 5.50801948  0.34928405 -1.23892489 -0.11905367  2.14910639  0.40555758\n",
      "   0.31533124  1.64649657 -0.43002407  0.70916933 -0.63043551]\n",
      " [ 0.34928405  3.88679952 -0.72615895 -0.13777566 -0.86369586 -0.01565253\n",
      "  -0.21964978  1.45482667  0.45473369  0.28833711 -1.66158596]\n",
      " [-1.23892489 -0.72615895  1.09417509  0.00714445 -0.76532203  0.0194465\n",
      "  -0.09876495 -0.76703291  0.74452219 -0.2413108   0.23643475]\n",
      " [-0.11905367 -0.13777566  0.00714445  2.89089595  1.14839562 -0.10447844\n",
      "  -0.32334484  0.3292649   0.57830816  1.53864522  0.33501168]\n",
      " [ 2.14910639 -0.86369586 -0.76532203  1.14839562  5.80118135 -0.18919827\n",
      "  -0.17522312  2.24642314 -0.83515468  2.47589484  2.699616  ]\n",
      " [ 0.40555758 -0.01565253  0.0194465  -0.10447844 -0.18919827  0.1296983\n",
      "   0.03599095  0.06759967 -0.02476861  0.30425554 -0.25990725]\n",
      " [ 0.31533124 -0.21964978 -0.09876495 -0.32334484 -0.17522312  0.03599095\n",
      "   0.15628472 -0.11467802 -0.07175104 -0.35736829 -0.12685467]\n",
      " [ 1.64649657  1.45482667 -0.76703291  0.3292649   2.24642314  0.06759967\n",
      "  -0.11467802  1.97763408 -0.33641938  1.84785846  0.21662176]\n",
      " [-0.43002407  0.45473369  0.74452219  0.57830816 -0.83515468 -0.02476861\n",
      "  -0.07175104 -0.33641938  1.89294019 -0.22619311 -0.43694914]\n",
      " [ 0.70916933  0.28833711 -0.2413108   1.53864522  2.47589484  0.30425554\n",
      "  -0.35736829  1.84785846 -0.22619311  5.20220465  0.02580843]\n",
      " [-0.63043551 -1.66158596  0.23643475  0.33501168  2.699616   -0.25990725\n",
      "  -0.12685467  0.21662176 -0.43694914  0.02580843  2.70883022]]\n"
     ]
    }
   ],
   "source": [
    "def covariance_short(c_hat, c_tilde):\n",
    "    c_hat = c_hat.squeeze(axis=-1).T\n",
    "    c_tilde = c_tilde.squeeze(axis=-1).T\n",
    "    samples = np.concatenate((c_hat, c_tilde), axis=0)\n",
    "    \n",
    "    samples_mean = np.mean(samples, axis=1)\n",
    "    exey = np.outer(samples_mean, samples_mean)\n",
    "    exy = np.zeros(exey.shape)\n",
    "    cov_again = np.zeros(exey.shape)\n",
    "    for i in range(exey.shape[0]):\n",
    "        mean_row_i = np.mean(samples[i])\n",
    "        sample_mean_row_i = np.sum(samples[i]) / (len(samples[i])-1)\n",
    "        for j in range(exey.shape[1]):\n",
    "            mean_row_j = np.mean(samples[j])\n",
    "            sample_mean_row_j = np.sum(samples[j]) / (len(samples[j])-1)\n",
    "            # cov_again[i,j] = np.mean(samples[i]*samples[j]) - mean_row_i*mean_row_j\n",
    "            cov_again[i,j] = np.sum((samples[i]-mean_row_i) * (samples[j]-mean_row_j)) / (len(samples[j])-1)\n",
    "            # cov_again[i,j] = np.sum( samples[i]*samples[j] - samples[i]*mean_row_j - mean_row_i*samples[j] + mean_row_i*mean_row_j ) / (len(samples[j])-1)\n",
    "            # cov_again[i,j] = np.sum( samples[i]*samples[j] ) / (len(samples[j])-1) - sample_mean_row_i*mean_row_j - mean_row_i*sample_mean_row_j + mean_row_i*mean_row_j\n",
    "            # cov_again[i,j] = np.sum(samples[i]*samples[j])/(samples.shape[1]) - mean_row_i*mean_row_j\n",
    "            exy[i,j] = np.mean(samples[i]*samples[j])\n",
    "    # print(exy.shape)\n",
    "    # exy_true = np.cov(samples) + exey\n",
    "\n",
    "    # print(exy)\n",
    "    # print()\n",
    "    # print(exy_true)\n",
    "\n",
    "\n",
    "    cov = exy - exey\n",
    "    return cov_again\n",
    "\n",
    "def covariance_np(c_hat, c_tilde):\n",
    "    c_hat = c_hat.squeeze(axis=-1).T\n",
    "    c_tilde = c_tilde.squeeze(axis=-1).T\n",
    "    samples = np.concatenate((c_hat, c_tilde), axis=0)\n",
    "    \n",
    "    return np.cov(samples)\n",
    "\n",
    "\n",
    "    # print(samples_mean.shape)\n",
    "    # cov = \n",
    "\n",
    "c_hat, c_tilde = sample(num_concepts, num_latent_concepts, batch_size)\n",
    "sigma = covariance(c_hat, c_tilde)\n",
    "sigma_np = covariance_np(c_hat, c_tilde)\n",
    "print(sigma)\n",
    "print()\n",
    "print(sigma_np)"
   ]
  },
  {
   "cell_type": "code",
   "execution_count": 111,
   "metadata": {},
   "outputs": [],
   "source": [
    "def covariance(c_hat, c_tilde):\n",
    "    c_hat_mean = np.mean(c_hat, axis=0) # (n_concepts, 1)\n",
    "    c_tilde_mean = np.mean(c_tilde, axis=0) # (n_latent, 1)\n",
    "    c_stack_T = np.concatenate((c_hat,c_tilde), axis=1) # (batch_size, n_concepts+n_latent, 1)\n",
    "    c_hat_mean_resize = np.repeat(c_hat_mean.reshape(1,num_concepts,1), batch_size, axis=0) # (batch_size, n_concepts, 1)\n",
    "    c_tilde_mean_resize = np.repeat(c_tilde_mean.reshape(1,num_latent_concepts,1), batch_size, axis=0) # (batch_size, n_latent, 1)\n",
    "    c_stack_mean_T = np.concatenate((c_hat_mean_resize,c_tilde_mean_resize), axis=1)  # (batch_size, n_concepts+n_latent, 1)\n",
    "    c_stack_deviation = c_stack_T-c_stack_mean_T  # (batch_size, n_concepts+n_latent, 1)\n",
    "    c_stack_deviation_T = np.moveaxis(c_stack_deviation,-1,-2)  # (batch_size, 1, n_concepts+n_latent)\n",
    "    sigma = 1/(batch_size-1) * np.sum(np.matmul(c_stack_deviation,c_stack_deviation_T),axis=0)  # (batch_size, n_concepts+n_latent, n_concepts+n_latent)\n",
    "    return sigma"
   ]
  },
  {
   "cell_type": "code",
   "execution_count": 111,
   "metadata": {},
   "outputs": [
    {
     "name": "stdout",
     "output_type": "stream",
     "text": [
      "[0.8135731125215057, 0.7576167103399972, 0.31160523050571065, 0.8604086080584533]\n",
      "[[ 0.67459205 -0.415014    0.00300902 -0.02950988]\n",
      " [-0.415014    1.25191919 -0.17795501 -0.46840892]\n",
      " [ 0.00300902 -0.17795501  0.27022026  0.0027806 ]\n",
      " [-0.02950988 -0.46840892  0.0027806   0.86797543]]\n",
      "\n",
      "[[ 0.60713285 -0.3735126   0.00270811 -0.02655889]\n",
      " [-0.3735126   1.12672727 -0.16015951 -0.42156803]\n",
      " [ 0.00270811 -0.16015951  0.24319824  0.00250254]\n",
      " [-0.02655889 -0.42156803  0.00250254  0.78117789]]\n",
      "0.5258061794321258\n",
      "0.09648715386070177 0.06330522164800642\n"
     ]
    }
   ],
   "source": [
    "c_hat, c_tilde = sample(num_concepts, num_latent_concepts, batch_size)\n",
    "sigma_scratch = covariance(c_hat, c_tilde)\n",
    "c_hat = c_hat.squeeze(axis=-1).T\n",
    "c_tilde = c_tilde.squeeze(axis=-1).T\n",
    "samples = np.concatenate((c_hat, c_tilde), axis=0)\n",
    "sigma_np = np.cov(samples)\n",
    "print(sigma_np)\n",
    "print()\n",
    "print(sigma_scratch)\n",
    "print(np.sum(np.abs(sigma_scratch - sigma_np)))\n",
    "print(np.linalg.det(sigma_np), np.linalg.det(sigma_scratch))"
   ]
  },
  {
   "cell_type": "code",
   "execution_count": 110,
   "metadata": {},
   "outputs": [],
   "source": [
    "def loss_np(c_hat, c_tilde):\n",
    "    c_hat = c_hat.squeeze(axis=-1).T\n",
    "    c_tilde = c_tilde.squeeze(axis=-1).T\n",
    "    samples = np.concatenate((c_hat, c_tilde), axis=0)\n",
    "    sigma = np.cov(samples)\n",
    "    # print(sigma)\n",
    "    det_sigma = np.linalg.det(sigma)\n",
    "    # print(det_sigma)\n",
    "    log_det_sigma = np.log(det_sigma)\n",
    "\n",
    "    # print(samples[c_hat.shape[0]:, c_hat.shape[0]:].shape)\n",
    "    sigma_tilde = np.cov(samples[c_hat.shape[0]:, c_hat.shape[0]:])\n",
    "    det_sigma_tilde = np.linalg.det(sigma_tilde)\n",
    "    log_det_sigma_tilde = np.log(det_sigma_tilde) # scalar\n",
    "    r = (log_det_sigma - log_det_sigma_tilde) / 2\n",
    "    return r"
   ]
  },
  {
   "cell_type": "code",
   "execution_count": 107,
   "metadata": {},
   "outputs": [],
   "source": [
    "def covariance(c_hat, c_tilde):\n",
    "    c_hat_mean = np.mean(c_hat, axis=0) # (n_concepts, 1)\n",
    "    c_tilde_mean = np.mean(c_tilde, axis=0) # (n_latent, 1)\n",
    "    c_stack_T = np.concatenate((c_hat,c_tilde), axis=1) # (batch_size, n_concepts+n_latent, 1)\n",
    "    c_hat_mean_resize = np.repeat(c_hat_mean.reshape(1,num_concepts,1), batch_size, axis=0) # (batch_size, n_concepts, 1)\n",
    "    c_tilde_mean_resize = np.repeat(c_tilde_mean.reshape(1,num_latent_concepts,1), batch_size, axis=0) # (batch_size, n_latent, 1)\n",
    "    c_stack_mean_T = np.concatenate((c_hat_mean_resize,c_tilde_mean_resize), axis=1)  # (batch_size, n_concepts+n_latent, 1)\n",
    "    c_stack_deviation = c_stack_T-c_stack_mean_T  # (batch_size, n_concepts+n_latent, 1)\n",
    "    c_stack_deviation_T = np.moveaxis(c_stack_deviation,-1,-2)  # (batch_size, 1, n_concepts+n_latent)\n",
    "    sigma = 1/(batch_size-1) * np.sum(np.matmul(c_stack_deviation,c_stack_deviation_T),axis=0)  # (batch_size, n_concepts+n_latent, n_concepts+n_latent)\n",
    "    return sigma\n",
    "\n",
    "def loss(c_hat, c_tilde, covariance):\n",
    "    # c_hat = c_hat.squeeze(axis=-1).T\n",
    "    # c_tilde = c_tilde.squeeze(axis=-1).T\n",
    "    # samples = np.concatenate((c_hat, c_tilde), axis=0)\n",
    "    sigma = covariance(c_hat, c_tilde)\n",
    "    # print(sigma)\n",
    "    det_sigma = np.linalg.det(sigma)\n",
    "    # print(det_sigma)\n",
    "    log_det_sigma = np.log(det_sigma)\n",
    "\n",
    "    # print(samples[c_hat.shape[0]:, c_hat.shape[0]:].shape)\n",
    "    sigma_tilde = sigma[c_hat.shape[1]:, c_hat.shape[1]:]\n",
    "    det_sigma_tilde = np.linalg.det(sigma_tilde)\n",
    "    log_det_sigma_tilde = np.log(det_sigma_tilde) # scalar\n",
    "    r = (log_det_sigma - log_det_sigma_tilde) / 2\n",
    "    return r"
   ]
  },
  {
   "cell_type": "code",
   "execution_count": 113,
   "metadata": {},
   "outputs": [],
   "source": [
    "def loss_term(c_hat, c_tilde):\n",
    "    c_hat_mean = np.mean(c_hat, axis=0) # (n_concepts, 1)\n",
    "    c_tilde_mean = np.mean(c_tilde, axis=0) # (n_latent, 1)\n",
    "\n",
    "    c_stack_T = np.concatenate((c_hat,c_tilde), axis=1) # (batch_size, n_concepts+n_latent, 1)\n",
    "    c_hat_mean_resize = np.repeat(c_hat_mean.reshape(1,num_concepts,1), batch_size, axis=0) # (batch_size, n_concepts, 1)\n",
    "    c_tilde_mean_resize = np.repeat(c_tilde_mean.reshape(1,num_latent_concepts,1), batch_size, axis=0) # (batch_size, n_latent, 1)\n",
    "    c_stack_mean_T = np.concatenate((c_hat_mean_resize,c_tilde_mean_resize), axis=1)  # (batch_size, n_concepts+n_latent, 1)\n",
    "    c_stack_deviation = c_stack_T-c_stack_mean_T  # (batch_size, n_concepts+n_latent, 1)\n",
    "    c_stack_deviation_T = np.moveaxis(c_stack_deviation,-1,-2)  # (batch_size, 1, n_concepts+n_latent)\n",
    "    sigma = 1/(batch_size-1) * np.sum(np.matmul(c_stack_deviation,c_stack_deviation_T),axis=0)  # (batch_size, n_concepts+n_latent, n_concepts+n_latent)\n",
    "    # sigma = covariance(c_hat, c_tilde)\n",
    "    print(sigma.shape)\n",
    "    log_det_sigma = np.log(np.linalg.det(sigma)) # scalar\n",
    "\n",
    "    c_tilde_deviation = c_tilde-c_tilde_mean # (batch_size, n_latent, 1)\n",
    "    c_tilde_deviation_T = np.moveaxis(c_tilde_deviation,-1,-2) # (batch_size, 1, n_latent)\n",
    "    sigma_tilde = 1/(batch_size-1) * np.sum(np.matmul(c_tilde_deviation, c_tilde_deviation_T),axis=0)  # (n_latent, n_latent)\n",
    "    # sigma_tilde = sigma[c_hat.shape[1]:, c_hat.shape[1]:]\n",
    "    log_det_sigma_tilde = np.log(np.linalg.det(sigma_tilde)) # scalar\n",
    "\n",
    "    r = (log_det_sigma - log_det_sigma_tilde) / 2\n",
    "    return r"
   ]
  },
  {
   "cell_type": "code",
   "execution_count": null,
   "metadata": {},
   "outputs": [
    {
     "name": "stderr",
     "output_type": "stream",
     "text": [
      "/tmp/ipykernel_1304/3746537734.py:21: RuntimeWarning: divide by zero encountered in log\n",
      "  log_det_sigma = np.log(det_sigma)\n",
      "/tmp/ipykernel_1304/3746537734.py:26: RuntimeWarning: divide by zero encountered in log\n",
      "  log_det_sigma_tilde = np.log(det_sigma_tilde) # scalar\n",
      "/tmp/ipykernel_1304/3746537734.py:27: RuntimeWarning: invalid value encountered in scalar subtract\n",
      "  r = (log_det_sigma - log_det_sigma_tilde) / 2\n",
      "/tmp/ipykernel_1304/1979655526.py:14: RuntimeWarning: divide by zero encountered in log\n",
      "  log_det_sigma = np.log(np.linalg.det(sigma)) # scalar\n",
      "/tmp/ipykernel_1304/1979655526.py:20: RuntimeWarning: divide by zero encountered in log\n",
      "  log_det_sigma_tilde = np.log(np.linalg.det(sigma_tilde)) # scalar\n",
      "/tmp/ipykernel_1304/1979655526.py:22: RuntimeWarning: invalid value encountered in scalar subtract\n",
      "  r = (log_det_sigma - log_det_sigma_tilde) / 2\n"
     ]
    },
    {
     "name": "stdout",
     "output_type": "stream",
     "text": [
      "(132, 132)\n",
      "nan nan\n",
      "(132, 132)\n",
      "nan nan\n",
      "(132, 132)\n",
      "nan nan\n",
      "(132, 132)\n",
      "nan nan\n",
      "(132, 132)\n",
      "nan nan\n",
      "(132, 132)\n",
      "nan nan\n",
      "(132, 132)\n",
      "nan nan\n",
      "(132, 132)\n",
      "nan nan\n",
      "(132, 132)\n",
      "nan nan\n",
      "(132, 132)\n",
      "nan nan\n",
      "(132, 132)\n",
      "nan nan\n",
      "(132, 132)\n",
      "nan nan\n",
      "(132, 132)\n",
      "nan nan\n",
      "(132, 132)\n",
      "nan nan\n",
      "(132, 132)\n",
      "nan nan\n",
      "(132, 132)\n",
      "nan nan\n",
      "(132, 132)\n",
      "nan nan\n",
      "(132, 132)\n",
      "nan nan\n",
      "(132, 132)\n",
      "nan nan\n",
      "(132, 132)\n",
      "nan nan\n",
      "(132, 132)\n",
      "nan nan\n",
      "(132, 132)\n",
      "nan nan\n",
      "(132, 132)\n",
      "nan nan\n",
      "(132, 132)\n",
      "nan nan\n",
      "(132, 132)\n",
      "nan nan\n",
      "(132, 132)\n",
      "nan nan\n",
      "(132, 132)\n",
      "nan nan\n",
      "(132, 132)\n",
      "nan nan\n",
      "(132, 132)\n",
      "nan nan\n",
      "(132, 132)\n",
      "nan nan\n",
      "(132, 132)\n",
      "nan nan\n",
      "(132, 132)\n",
      "nan nan\n",
      "(132, 132)\n",
      "nan nan\n",
      "(132, 132)\n",
      "nan nan\n",
      "(132, 132)\n",
      "nan nan\n",
      "(132, 132)\n",
      "nan nan\n",
      "(132, 132)\n",
      "nan nan\n",
      "(132, 132)\n",
      "nan nan\n",
      "(132, 132)\n",
      "nan nan\n",
      "(132, 132)\n",
      "nan nan\n",
      "(132, 132)\n",
      "nan nan\n",
      "(132, 132)\n",
      "nan nan\n",
      "(132, 132)\n",
      "nan nan\n",
      "(132, 132)\n",
      "nan nan\n",
      "(132, 132)\n",
      "nan nan\n",
      "(132, 132)\n",
      "nan nan\n",
      "(132, 132)\n",
      "nan nan\n",
      "(132, 132)\n",
      "nan nan\n",
      "(132, 132)\n",
      "nan nan\n",
      "(132, 132)\n",
      "nan nan\n",
      "(132, 132)\n",
      "nan nan\n",
      "(132, 132)\n",
      "nan nan\n",
      "(132, 132)\n",
      "nan nan\n",
      "(132, 132)\n",
      "nan nan\n",
      "(132, 132)\n",
      "nan nan\n",
      "(132, 132)\n",
      "nan nan\n",
      "(132, 132)\n",
      "nan nan\n",
      "(132, 132)\n",
      "nan nan\n",
      "(132, 132)\n",
      "nan nan\n",
      "(132, 132)\n",
      "nan nan\n",
      "(132, 132)\n",
      "nan nan\n",
      "(132, 132)\n",
      "nan nan\n",
      "(132, 132)\n",
      "nan nan\n",
      "(132, 132)\n",
      "nan nan\n",
      "(132, 132)\n",
      "nan nan\n",
      "(132, 132)\n",
      "nan nan\n",
      "(132, 132)\n",
      "nan nan\n",
      "(132, 132)\n",
      "nan nan\n",
      "(132, 132)\n",
      "nan nan\n",
      "(132, 132)\n",
      "nan nan\n",
      "(132, 132)\n",
      "nan nan\n",
      "(132, 132)\n",
      "nan nan\n",
      "(132, 132)\n",
      "nan nan\n",
      "(132, 132)\n",
      "nan nan\n",
      "(132, 132)\n",
      "nan nan\n",
      "(132, 132)\n",
      "nan nan\n",
      "(132, 132)\n",
      "nan nan\n",
      "(132, 132)\n",
      "nan nan\n",
      "(132, 132)\n",
      "nan nan\n",
      "(132, 132)\n",
      "nan nan\n",
      "(132, 132)\n",
      "nan nan\n",
      "(132, 132)\n",
      "nan nan\n",
      "(132, 132)\n",
      "nan nan\n",
      "(132, 132)\n",
      "nan nan\n",
      "(132, 132)\n",
      "nan nan\n",
      "(132, 132)\n",
      "nan nan\n",
      "(132, 132)\n",
      "nan nan\n",
      "(132, 132)\n",
      "nan nan\n",
      "(132, 132)\n",
      "nan nan\n",
      "(132, 132)\n",
      "nan nan\n",
      "(132, 132)\n",
      "nan nan\n",
      "(132, 132)\n",
      "nan nan\n",
      "(132, 132)\n",
      "nan nan\n",
      "(132, 132)\n",
      "nan nan\n",
      "(132, 132)\n",
      "nan nan\n",
      "(132, 132)\n",
      "nan nan\n",
      "(132, 132)\n",
      "nan nan\n",
      "(132, 132)\n",
      "nan nan\n",
      "(132, 132)\n",
      "nan nan\n",
      "(132, 132)\n",
      "nan nan\n"
     ]
    }
   ],
   "source": [
    "batch_size = 10\n",
    "num_concepts = 7\n",
    "num_latent_concepts = 4\n",
    "\n",
    "for _ in range(100):\n",
    "    c_hat, c_tilde = sample(num_concepts, num_latent_concepts, batch_size)\n",
    "    # r = loss_term(c_hat, c_tilde)\n",
    "    # r_fast = loss_np(c_hat, c_tilde)\n",
    "    r = loss(c_hat, c_tilde, covariance_np)\n",
    "    # r_fast = loss(c_hat, c_tilde, covariance)\n",
    "    r_fast = loss_term(c_hat, c_tilde)\n",
    "    # print(r_fast)\n",
    "    # if np.isnan(r_fast):\n",
    "    #     break\n",
    "    print(r, r_fast)\n",
    "    # print(r)"
   ]
  },
  {
   "cell_type": "code",
   "execution_count": 115,
   "metadata": {},
   "outputs": [
    {
     "name": "stdout",
     "output_type": "stream",
     "text": [
      "0.5875920078389916\n"
     ]
    }
   ],
   "source": [
    "print(r)"
   ]
  },
  {
   "cell_type": "code",
   "execution_count": 44,
   "metadata": {},
   "outputs": [
    {
     "name": "stdout",
     "output_type": "stream",
     "text": [
      "(128, 64, 64) (64, 64) (64, 64)\n",
      "64\n"
     ]
    }
   ],
   "source": [
    "batch_size = 64\n",
    "num_concepts = 256\n",
    "num_latent_concepts = 128\n",
    "\n",
    "c_hat, c_tilde = sample(num_concepts, num_latent_concepts, batch_size*128)\n",
    "# c = np.concatenate((c_hat, c_tilde), axis=1).squeeze().reshape(128, batch_size, num_concepts+num_latent_concepts)\n",
    "c = c_hat.reshape(128, batch_size, num_concepts)\n",
    "# # WRONG\n",
    "# c_cov = []\n",
    "# for i in range(c.shape[0]):\n",
    "#     c_cov.append(np.cov(c[i], rowvar=True))\n",
    "# c_cov = np.stack(c_cov, axis=0)\n",
    "# c_cov_mean = np.mean(c_cov, axis=0)\n",
    "# c_cov_std = np.std(c_cov, axis=0)\n",
    "# print(c_cov.shape, c_cov_mean.shape, c_cov_std.shape)\n",
    "# print(np.sum(c_cov_mean > 1.5))"
   ]
  },
  {
   "cell_type": "code",
   "execution_count": 83,
   "metadata": {},
   "outputs": [],
   "source": [
    "# sampling from independent normals using parameterization trick\n",
    "def sample(num_concepts, num_latent_concepts, batch_size):\n",
    "    mu_hat = np.random.random(num_concepts).reshape(num_concepts, 1)*2 # (n_concepts,  1)\n",
    "    true_sigma_hat = np.random.random(num_concepts).reshape(num_concepts, 1)*5 # (n_concepts,  1)\n",
    "    c_hat = np.random.standard_normal(batch_size*num_concepts).reshape(batch_size, num_concepts, 1) * true_sigma_hat**0.5 + mu_hat # (batch_size, n_concepts,  1)\n",
    "\n",
    "    mu_tilde = np.random.random(num_latent_concepts).reshape(num_latent_concepts, 1)*5 # (n_latent,  1)\n",
    "    true_sigma_tilde = np.random.random(num_latent_concepts).reshape(num_latent_concepts, 1)*10 # (n_latent,  1)\n",
    "    c_tilde = np.random.standard_normal(batch_size*num_latent_concepts).reshape(batch_size, num_latent_concepts, 1) * true_sigma_tilde**0.5 + mu_tilde # (batch_size, n_latent,  1)\n",
    "    # print(list(true_sigma_hat.squeeze())+list(true_sigma_tilde.squeeze()))\n",
    "    return c_hat, c_tilde\n",
    "\n",
    "# c_hat_mean = np.mean(c_hat, axis=0) # (n_concepts, 1)\n",
    "# c_tilde_mean = np.mean(c_tilde, axis=0) # (n_latent, 1)\n",
    "# print(c_hat.shape, c_tilde.shape)\n",
    "\n",
    "# sampling from independent normals using parameterization trick\n",
    "def sample_c(num_concepts, batch_size):\n",
    "    mu_hat = np.random.random(num_concepts).reshape(num_concepts)*2 # (n_concepts,  1)\n",
    "    true_sigma_hat = np.random.random(num_concepts*num_concepts).reshape(num_concepts, num_concepts)\n",
    "    true_sigma_hat = np.matmul(true_sigma_hat, true_sigma_hat.T)*5 # (n_concepts,  1)\n",
    "    c_hat = np.random.multivariate_normal(mu_hat, true_sigma_hat, batch_size)\n",
    "    return c_hat, mu_hat, true_sigma_hat\n",
    "\n",
    "# c_hat_mean = np.mean(c_hat, axis=0) # (n_concepts, 1)\n",
    "# c_tilde_mean = np.mean(c_tilde, axis=0) # (n_latent, 1)\n",
    "# print(c_hat.shape, c_tilde.shape)"
   ]
  },
  {
   "cell_type": "code",
   "execution_count": 61,
   "metadata": {},
   "outputs": [],
   "source": [
    "import matplotlib.pyplot as plt"
   ]
  },
  {
   "cell_type": "code",
   "execution_count": 107,
   "metadata": {},
   "outputs": [
    {
     "name": "stdout",
     "output_type": "stream",
     "text": [
      "0.1410018950545684\n"
     ]
    }
   ],
   "source": [
    "def get_corr_to_std(batch_size, std=1, mean=0, samples=100):\n",
    "    min_corr = -1\n",
    "    max_corr = 1\n",
    "    step = 0.01\n",
    "    scale = 100\n",
    "    corr_to_std = {}\n",
    "\n",
    "    for corr in range(int(scale*min_corr), int((max_corr+step)*scale), int(step*scale)):\n",
    "        corr /= scale\n",
    "        cov_matrix = np.ones((2,2))\n",
    "        np.fill_diagonal(cov_matrix, std**2)\n",
    "        cov_matrix[0,1] = corr*std**2\n",
    "        cov_matrix[1,0] = corr*std**2\n",
    "        z = np.random.multivariate_normal(np.ones(2)*mean, cov_matrix, (samples, batch_size))\n",
    "        corr_z = []\n",
    "        for sample in z:\n",
    "            # print(sample.shape)\n",
    "            # print(np.corrcoef(sample, rowvar=False))\n",
    "            corr_z.append(np.corrcoef(sample, rowvar=False)[0,1])\n",
    "        std_corr_z = np.std(corr_z)\n",
    "        corr_to_std[int(corr*scale)] = std_corr_z\n",
    "\n",
    "        def get_std(correlation): # interpolation\n",
    "            return corr_to_std[int(round(correlation, 2)*scale)]\n",
    "            # if correlation == 1:\n",
    "            #     return corr_to_std[correlation]\n",
    "            # if correlation < step:\n",
    "            #     return corr_to_std[0]*correlation*100 + corr_to_std[int(step*scale)]*(1-correlation*100)\n",
    "            # corr_truncate = int(correlation * scale) / scale\n",
    "            # alpha = int(correlation*scale*100) % int(corr_truncate*scale*100) / 100 # 0.1234 -> 0.34   (1234%1200)\n",
    "            # return corr_to_std[int(corr_truncate*scale)]*alpha + corr_to_std[int((corr_truncate+step)*scale)]*(1-alpha)\n",
    "    return get_std\n",
    "\n",
    "print(get_corr_to_std(batch_size)(0.8160156425812756))"
   ]
  },
  {
   "cell_type": "code",
   "execution_count": 126,
   "metadata": {},
   "outputs": [
    {
     "name": "stdout",
     "output_type": "stream",
     "text": [
      "<class 'numpy.ndarray'>\n",
      "gamma: 2 149.34170877816973 24.552049911716285\n",
      "alpha: 0.0 0.0 24.552049911716285\n",
      "alpha: 0.1 14.934170877816962 24.552049911716285\n",
      "alpha: 0.2 29.868341755633924 24.552049911716285\n",
      "0.1 2\n",
      "84.53586801180836 625.736967331119 701.4422959321189\n",
      "117.23117516515754 625.736967331119 740.4640436834289\n",
      "SlogdetResult(sign=1.0, logabsdet=2171.4133422523823)\n",
      "SlogdetResult(sign=1.0, logabsdet=1439.6220783076865)\n",
      "SlogdetResult(sign=1.0, logabsdet=-10942.043162644797)\n"
     ]
    }
   ],
   "source": [
    "num_concepts = 500\n",
    "batch_size = 64\n",
    "c_hat, mu_hat, true_sigma_hat = sample_c(num_concepts, batch_size)\n",
    "get_std = np.vectorize(get_corr_to_std(batch_size))\n",
    "def get_cov(c, get_std, delta=1):\n",
    "    concepts = c.shape[1]\n",
    "    # c = np.concatenate((c_hat, c_tilde), axis=1).squeeze() # 64, 256+128\n",
    "    p_hat = np.corrcoef(c, rowvar=False) # 256+128, 256+128\n",
    "    np.fill_diagonal(p_hat, 0.99999)\n",
    "\n",
    "    # calculate S_p\n",
    "    S_p = np.sum(get_std(p_hat)**2)**0.5\n",
    "    \n",
    "\n",
    "    # estimate gamma\n",
    "    for gamma in range(2, 10, 2):\n",
    "        p_hat_gamma = p_hat**gamma * p_hat\n",
    "        print('gamma:', gamma, np.linalg.norm(p_hat - p_hat_gamma), delta * S_p)\n",
    "        if np.linalg.norm(p_hat - p_hat_gamma) >= delta * S_p:\n",
    "            gamma_star = gamma\n",
    "            break\n",
    "\n",
    "    # estimate alpha\n",
    "    scale = 1000\n",
    "    step = 0.1\n",
    "    for alpha in range(0, int((1+step)*scale), int(step*scale)):\n",
    "        alpha /= scale\n",
    "        L_alpha = alpha * p_hat ** gamma_star + (1-alpha) *p_hat ** (gamma_star-2)\n",
    "        p_hat_alpha = L_alpha * p_hat\n",
    "        print('alpha:', alpha, np.linalg.norm(p_hat - p_hat_alpha), delta * S_p)\n",
    "        if np.linalg.norm(p_hat - p_hat_alpha) >= delta * S_p:\n",
    "            alpha_star = alpha - step\n",
    "            break\n",
    "    print(alpha_star, gamma_star)\n",
    "\n",
    "    L_alpha_star = alpha_star * p_hat ** gamma_star + (1-alpha_star) *p_hat ** (gamma_star-2)\n",
    "    p_hat_nice = L_alpha_star * p_hat\n",
    "\n",
    "    V_hat = np.diagflat(np.std(c, axis=0))\n",
    "    P_hat_nice = np.matmul(np.matmul(V_hat, p_hat_nice), V_hat) # Covariance estimate\n",
    "    return P_hat_nice\n",
    "\n",
    "print(type(c_hat))\n",
    "sigma_hat = get_cov(c_hat, get_std)\n",
    "np_sigma = np.cov(c_hat, rowvar=False)\n",
    "# print(np_sigma.shape)\n",
    "# print(true_sigma_hat)\n",
    "# print()\n",
    "# print(sigma_hat)\n",
    "print(np.mean(np.absolute(true_sigma_hat-sigma_hat)), np.mean(np.absolute(true_sigma_hat)), np.mean(np.absolute(sigma_hat)))\n",
    "\n",
    "print(np.mean(np.absolute(true_sigma_hat-np_sigma)), np.mean(np.absolute(true_sigma_hat)), np.mean(np.absolute(np_sigma)))\n",
    "print(np.linalg.slogdet(true_sigma_hat))\n",
    "print(np.linalg.slogdet(sigma_hat))\n",
    "print(np.linalg.slogdet(np_sigma))\n"
   ]
  },
  {
   "cell_type": "code",
   "execution_count": 121,
   "metadata": {},
   "outputs": [
    {
     "name": "stdout",
     "output_type": "stream",
     "text": [
      "[[832.55805317 671.5235633  637.38296223 ... 599.1144783  618.77690238\n",
      "  603.01423257]\n",
      " [671.5235633  873.46720694 658.22410253 ... 625.33437358 637.6742321\n",
      "  638.26175424]\n",
      " [637.38296223 658.22410253 851.4920577  ... 620.80055349 627.63159767\n",
      "  617.57867465]\n",
      " ...\n",
      " [599.1144783  625.33437358 620.80055349 ... 776.92348255 587.69406409\n",
      "  609.85106122]\n",
      " [618.77690238 637.6742321  627.63159767 ... 587.69406409 833.40284741\n",
      "  613.44695901]\n",
      " [603.01423257 638.26175424 617.57867465 ... 609.85106122 613.44695901\n",
      "  803.3724249 ]] \n",
      "\n",
      "[[ 973.21404205  825.07636767  743.4229834  ...  757.76279181\n",
      "   814.35190281  739.49803341]\n",
      " [ 825.07636767 1098.12794627  784.653308   ...  857.67953162\n",
      "   864.36952811  776.62903896]\n",
      " [ 743.4229834   784.653308   1008.83785437 ...  843.04013998\n",
      "   817.6209166   718.30296049]\n",
      " ...\n",
      " [ 757.76279181  857.67953162  843.04013998 ... 1002.72035987\n",
      "   846.81564493  728.48260921]\n",
      " [ 814.35190281  864.36952811  817.6209166  ...  846.81564493\n",
      "  1176.19488062  766.30338737]\n",
      " [ 739.49803341  776.62903896  718.30296049 ...  728.48260921\n",
      "   766.30338737  859.34424114]] \n",
      "\n",
      "[[ 988.67374804  865.89857741  785.90750426 ...  799.03917408\n",
      "   859.48190519  774.82400479]\n",
      " [ 865.89857741 1115.57193543  830.08931392 ...  897.43286253\n",
      "   912.35228769  814.88297637]\n",
      " [ 785.90750426  830.08931392 1024.86345197 ...  879.23831295\n",
      "   864.30517239  756.92612958]\n",
      " ...\n",
      " [ 799.03917408  897.43286253  879.23831295 ... 1018.64877981\n",
      "   891.22143802  766.09481461]\n",
      " [ 859.48190519  912.35228769  864.30517239 ...  891.22143802\n",
      "  1194.87897914  808.64003793]\n",
      " [ 774.82400479  814.88297637  756.92612958 ...  766.09481461\n",
      "   808.64003793  872.99510184]] \n",
      "\n"
     ]
    }
   ],
   "source": [
    "print(true_sigma_hat,'\\n')\n",
    "print(sigma_hat,'\\n')\n",
    "print(np_sigma,'\\n')"
   ]
  },
  {
   "cell_type": "code",
   "execution_count": 133,
   "metadata": {},
   "outputs": [
    {
     "name": "stdout",
     "output_type": "stream",
     "text": [
      "tensor(2.6201, dtype=torch.float64)\n"
     ]
    },
    {
     "name": "stderr",
     "output_type": "stream",
     "text": [
      "/tmp/ipykernel_1304/3361954235.py:11: UserWarning: To copy construct from a tensor, it is recommended to use sourceTensor.clone().detach() or sourceTensor.clone().detach().requires_grad_(True), rather than torch.tensor(sourceTensor).\n",
      "  z_hat = torch.normal(torch.repeat_interleave(torch.tensor(mu), m), torch.repeat_interleave(torch.tensor(1/(batch_size-3)),m*concepts**2)).reshape(m, concepts**2)\n"
     ]
    }
   ],
   "source": [
    "c_hat, c_tilde = sample(num_concepts, num_latent_concepts, batch_size)\n",
    "c_hat = torch.tensor(c_hat)\n",
    "c_tilde = torch.tensor(c_tilde)\n",
    "batch_size = c_hat.shape[0]\n",
    "concepts = c.shape[1]\n",
    "c = torch.concatenate((c_hat, c_tilde), axis=1).squeeze() # 64, 256+128\n",
    "p_hat = torch.corrcoef(c.T) # 256+128, 256+128\n",
    "p_hat.fill_diagonal_(0.99999)\n",
    "\n",
    "mu = torch.arctanh(p_hat.flatten())\n",
    "z_hat = torch.normal(torch.repeat_interleave(torch.tensor(mu), m), torch.repeat_interleave(torch.tensor(1/(batch_size-3)),m*concepts**2)).reshape(m, concepts**2)\n",
    "# z_hat = np.random.standard_normal(m*concepts*concepts).reshape(m, concepts*concepts) * 1/(batch_size-3)**0.5 + torch.arctanh(p_hat.reshape(1,concepts*concepts))\n",
    "p_var = torch.var(torch.tanh(z_hat), axis=0)\n",
    "S_p = torch.sqrt(torch.sum(p_var))\n",
    "\n",
    "# estimate gamma\n",
    "for gamma in range(2, 10, 2):\n",
    "    p_hat_gamma = p_hat**gamma * p_hat\n",
    "    if torch.norm(p_hat - p_hat_gamma) >= delta * S_p:\n",
    "        gamma_star = gamma\n",
    "        break\n",
    "\n",
    "# estimate alpha\n",
    "scale = 1000\n",
    "step = 0.1\n",
    "for alpha in range(0, int((1+step)*scale), int(step*scale)):\n",
    "    alpha /= scale\n",
    "    L_alpha = alpha * p_hat ** gamma_star + (1-alpha) *p_hat ** (gamma_star-2)\n",
    "    p_hat_alpha = L_alpha * p_hat\n",
    "    if torch.norm(p_hat - p_hat_alpha) >= delta * S_p:\n",
    "        alpha_star = alpha - step\n",
    "\n",
    "L_alpha_star = alpha_star * p_hat ** gamma_star + (1-alpha_star) *p_hat ** (gamma_star-2)\n",
    "p_hat_nice = L_alpha_star * p_hat\n",
    "\n",
    "V_hat = torch.diagflat(torch.std(c, axis=0))\n",
    "P_hat_nice = torch.matmul(torch.matmul(V_hat, p_hat_nice), V_hat) # Covariance estimate\n",
    "\n",
    "print(-0.5 * torch.log(torch.linalg.det(P_hat_nice[-c_tilde.shape[1]:, -c_tilde.shape[1]:]) / torch.linalg.det(P_hat_nice)))"
   ]
  },
  {
   "cell_type": "code",
   "execution_count": 79,
   "metadata": {},
   "outputs": [
    {
     "name": "stderr",
     "output_type": "stream",
     "text": [
      "/tmp/ipykernel_1304/290463341.py:1: RuntimeWarning: divide by zero encountered in arctanh\n",
      "  np.tanh(np.arctanh(1))\n"
     ]
    },
    {
     "data": {
      "text/plain": [
       "1.0"
      ]
     },
     "execution_count": 79,
     "metadata": {},
     "output_type": "execute_result"
    }
   ],
   "source": [
    "np.tanh(np.arctanh(1))"
   ]
  },
  {
   "cell_type": "code",
   "execution_count": 50,
   "metadata": {},
   "outputs": [
    {
     "data": {
      "text/plain": [
       "array([[ 0,  0],\n",
       "       [ 2,  3],\n",
       "       [ 8, 10],\n",
       "       [18, 21],\n",
       "       [32, 36]])"
      ]
     },
     "execution_count": 50,
     "metadata": {},
     "output_type": "execute_result"
    }
   ],
   "source": [
    "np.arange(10).reshape(5,2) * np.arange(5).reshape(5,1)"
   ]
  },
  {
   "cell_type": "code",
   "execution_count": 43,
   "metadata": {},
   "outputs": [
    {
     "data": {
      "image/png": "[encoded data removed]",
      "text/plain": [
       "<Figure size 640x480 with 1 Axes>"
      ]
     },
     "metadata": {},
     "output_type": "display_data"
    }
   ],
   "source": [
    "plt.scatter(c_cov_mean.flatten(), c_cov_std.flatten(), s=0.1)\n",
    "# plt.hist(c_cov.flatten())\n",
    "plt.show()"
   ]
  },
  {
   "cell_type": "code",
   "execution_count": 22,
   "metadata": {},
   "outputs": [],
   "source": [
    "import matplotlib.pyplot as plt"
   ]
  },
  {
   "cell_type": "code",
   "execution_count": 45,
   "metadata": {},
   "outputs": [
    {
     "name": "stdout",
     "output_type": "stream",
     "text": [
      "[[2.85758443 0.34428316 0.34187303 ... 0.30198384 0.3421407  0.31602216]\n",
      " [0.34428316 2.82694093 0.33168922 ... 0.35264139 0.33767396 0.34207855]\n",
      " [0.34187303 0.33168922 2.85041625 ... 0.33417808 0.34173658 0.31345031]\n",
      " ...\n",
      " [0.30198384 0.35264139 0.33417808 ... 2.8211648  0.34391872 0.34208158]\n",
      " [0.3421407  0.33767396 0.34173658 ... 0.34391872 2.82132786 0.33203742]\n",
      " [0.31602216 0.34207855 0.31345031 ... 0.34208158 0.33203742 2.85716297]]\n"
     ]
    }
   ],
   "source": [
    "print(c_cov_mean)"
   ]
  },
  {
   "cell_type": "code",
   "execution_count": 16,
   "metadata": {},
   "outputs": [
    {
     "name": "stdout",
     "output_type": "stream",
     "text": [
      "[[0 1 2 3 4]\n",
      " [5 6 7 8 9]]\n"
     ]
    }
   ],
   "source": [
    "print(np.arange(10).reshape(2,5))"
   ]
  },
  {
   "cell_type": "code",
   "execution_count": null,
   "metadata": {},
   "outputs": [],
   "source": []
  }
 ],
 "metadata": {
  "kernelspec": {
   "display_name": "torchcfm",
   "language": "python",
   "name": "python3"
  },
  "language_info": {
   "codemirror_mode": {
    "name": "ipython",
    "version": 3
   },
   "file_extension": ".py",
   "mimetype": "text/x-python",
   "name": "python",
   "nbconvert_exporter": "python",
   "pygments_lexer": "ipython3",
   "version": "3.10.15"
  }
 },
 "nbformat": 4,
 "nbformat_minor": 2
}
