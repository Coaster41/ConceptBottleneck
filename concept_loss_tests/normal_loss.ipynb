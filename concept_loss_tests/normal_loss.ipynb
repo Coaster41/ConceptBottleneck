{
 "cells": [
  {
   "cell_type": "code",
   "execution_count": 110,
   "metadata": {},
   "outputs": [],
   "source": [
    "import numpy as np"
   ]
  },
  {
   "cell_type": "code",
   "execution_count": 111,
   "metadata": {},
   "outputs": [],
   "source": [
    "batch_size = 32\n",
    "num_concepts = 16\n",
    "num_latent_concepts = 8"
   ]
  },
  {
   "cell_type": "code",
   "execution_count": null,
   "metadata": {},
   "outputs": [
    {
     "name": "stdout",
     "output_type": "stream",
     "text": [
      "(32, 1, 1)\n"
     ]
    }
   ],
   "source": [
    "c_hat = np.random.random((batch_size,num_concepts,1)) # (batch_size, n_concepts,  1)\n",
    "c_tilde = np.random.random((batch_size, num_latent_concepts,1)) # (batch_size, n_latent, 1)\n",
    "c_hat_mean = np.expand_dims(np.mean(c_hat, axis=1),axis=-1) # (batch_size, 1, 1)\n",
    "c_tilde_mean = np.expand_dims(np.mean(c_tilde, axis=1), axis=-1) # (batch_size, 1, 1)"
   ]
  },
  {
   "cell_type": "code",
   "execution_count": null,
   "metadata": {},
   "outputs": [
    {
     "name": "stderr",
     "output_type": "stream",
     "text": [
      "/tmp/ipykernel_9991/3699978160.py:4: RuntimeWarning: invalid value encountered in log\n",
      "  log_det_sigma_tilde = np.log(1/batch_size * np.linalg.det(sigma_tilde)) # scalar\n",
      "/tmp/ipykernel_9991/3699978160.py:13: RuntimeWarning: invalid value encountered in log\n",
      "  log_det_sigma = np.log(1/batch_size * np.linalg.det(sigma)) # scalar\n"
     ]
    }
   ],
   "source": [
    "c_tilde_deviation = c_tilde-c_tilde_mean # (batch_size, n_latent, 1)\n",
    "c_tilde_deviation_T = np.moveaxis(c_tilde_deviation,-1,-2) # (batch_size, 1, n_latent)\n",
    "sigma_tilde = np.sum(np.matmul(c_tilde_deviation, c_tilde_deviation_T),axis=0)  # (n_latent, n_latent)\n",
    "log_det_sigma_tilde = np.log(1/batch_size * np.linalg.det(sigma_tilde)) # scalar\n",
    "\n",
    "c_stack_T = np.concatenate((c_hat,c_tilde), axis=1) # (batch_size, n_concepts+n_latent, 1)\n",
    "c_hat_mean_resize = np.repeat(c_hat_mean, c_hat.shape[1], axis=1) # (batch_size, n_concepts, 1)\n",
    "c_tilde_mean_resize = np.repeat(c_tilde_mean, c_tilde.shape[1], axis=1) # (batch_size, n_latent, 1)\n",
    "c_stack_mean_T = np.concatenate((c_hat_mean_resize,c_tilde_mean_resize), axis=1)  # (batch_size, n_concepts+n_latent, 1)\n",
    "c_stack_deviation = c_stack_T-c_stack_mean_T  # (batch_size, n_concepts+n_latent, 1)\n",
    "c_stack_deviation_T = np.moveaxis(c_stack_deviation,-1,-2)  # (batch_size, 1, n_concepts+n_latent)\n",
    "sigma = np.sum(np.matmul(c_stack_deviation,c_stack_deviation_T),axis=0)  # (batch_size, n_concepts+n_latent, n_concepts+n_latent)\n",
    "log_det_sigma = np.log(1/batch_size * np.linalg.det(sigma)) # scalar\n",
    "\n",
    "r = (log_det_sigma - log_det_sigma_tilde) / 2"
   ]
  },
  {
   "cell_type": "code",
   "execution_count": null,
   "metadata": {},
   "outputs": [],
   "source": [
    "# concept_stack = np.concatenate((c_hat-c_hat_mean,c_tilde-c_tilde_mean), axis=1) # [c_hat, c_tilde]^T - [c_hat_mean, c_tilde_mean]^T\n",
    "# left_inner_product = np.matmul((np.moveaxis(concept_stack,-1,-2)),concept_stack) # A^T A\n",
    "# left_side = np.log(np.abs(np.sum( left_inner_product))/batch_size) # 1/n log | sum (B) |\n",
    "\n",
    "# c_tilde_deviation = c_tilde-c_tilde_mean\n",
    "# right_inner_product = np.matmul((np.moveaxis(c_tilde_deviation,-1,-2)),c_tilde_deviation)\n",
    "# right_side = np.log(np.abs(np.sum( right_inner_product))/batch_size)\n",
    "\n",
    "# r = (left_side - right_side)/2"
   ]
  },
  {
   "cell_type": "code",
   "execution_count": 115,
   "metadata": {},
   "outputs": [
    {
     "name": "stdout",
     "output_type": "stream",
     "text": [
      "0.5875920078389916\n"
     ]
    }
   ],
   "source": [
    "print(r)"
   ]
  },
  {
   "cell_type": "code",
   "execution_count": null,
   "metadata": {},
   "outputs": [],
   "source": []
  }
 ],
 "metadata": {
  "kernelspec": {
   "display_name": "torchcfm",
   "language": "python",
   "name": "python3"
  },
  "language_info": {
   "codemirror_mode": {
    "name": "ipython",
    "version": 3
   },
   "file_extension": ".py",
   "mimetype": "text/x-python",
   "name": "python",
   "nbconvert_exporter": "python",
   "pygments_lexer": "ipython3",
   "version": "3.10.15"
  }
 },
 "nbformat": 4,
 "nbformat_minor": 2
}
